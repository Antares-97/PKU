{
 "cells": [
  {
   "cell_type": "code",
   "execution_count": 3,
   "metadata": {},
   "outputs": [],
   "source": [
    "from PIL import Image\n",
    "import numpy as np\n",
    "import os"
   ]
  },
  {
   "cell_type": "code",
   "execution_count": 4,
   "metadata": {},
   "outputs": [
    {
     "name": "stdout",
     "output_type": "stream",
     "text": [
      "PNG (400, 400) L\n",
      "PNG (400, 400) L\n"
     ]
    }
   ],
   "source": [
    "path = os.getcwd()\n",
    "im1=Image.open(path+'/2D Images/1.png')\n",
    "im2=Image.open(path+'/2D Images/2.png')\n",
    "print(im1.format,im1.size,im1.mode)\n",
    "print(im2.format,im2.size,im2.mode)"
   ]
  },
  {
   "cell_type": "code",
   "execution_count": 5,
   "metadata": {},
   "outputs": [],
   "source": [
    "image1 = np.array(im1)\n",
    "image2 = np.array(im2)"
   ]
  },
  {
   "cell_type": "code",
   "execution_count": 9,
   "metadata": {},
   "outputs": [],
   "source": [
    "difference = np.zeros_like(image1)\n",
    "for i in range(400):\n",
    "    for j in range(400):\n",
    "        difference[i][j] = abs(int(image1[i][j])-int(image2[i][j]))"
   ]
  },
  {
   "cell_type": "code",
   "execution_count": 10,
   "metadata": {},
   "outputs": [
    {
     "name": "stdout",
     "output_type": "stream",
     "text": [
      "4640.006538494603\n"
     ]
    }
   ],
   "source": [
    "norm2 = np.linalg.norm(difference, ord=2)\n",
    "print(norm2)"
   ]
  },
  {
   "cell_type": "code",
   "execution_count": 11,
   "metadata": {},
   "outputs": [
    {
     "name": "stdout",
     "output_type": "stream",
     "text": [
      "13392.0\n"
     ]
    }
   ],
   "source": [
    "norm1 = np.linalg.norm(difference, ord=1)\n",
    "print(norm1)"
   ]
  },
  {
   "cell_type": "code",
   "execution_count": 12,
   "metadata": {},
   "outputs": [],
   "source": [
    "diff_image = Image.fromarray(difference)\n",
    "diff_image.show()\n",
    "diff_image.save('diff_image.png')"
   ]
  },
  {
   "cell_type": "code",
   "execution_count": null,
   "metadata": {},
   "outputs": [],
   "source": []
  },
  {
   "cell_type": "code",
   "execution_count": null,
   "metadata": {},
   "outputs": [],
   "source": []
  }
 ],
 "metadata": {
  "kernelspec": {
   "display_name": "Python 3",
   "language": "python",
   "name": "python3"
  },
  "language_info": {
   "codemirror_mode": {
    "name": "ipython",
    "version": 3
   },
   "file_extension": ".py",
   "mimetype": "text/x-python",
   "name": "python",
   "nbconvert_exporter": "python",
   "pygments_lexer": "ipython3",
   "version": "3.7.1"
  }
 },
 "nbformat": 4,
 "nbformat_minor": 2
}
