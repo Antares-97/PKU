{
 "cells": [
  {
   "cell_type": "code",
   "execution_count": 48,
   "metadata": {},
   "outputs": [],
   "source": [
    "import numpy as np\n",
    "import math\n",
    "from PIL import Image"
   ]
  },
  {
   "cell_type": "code",
   "execution_count": 49,
   "metadata": {},
   "outputs": [],
   "source": [
    "import SimpleITK as sitk\n",
    "import os"
   ]
  },
  {
   "cell_type": "code",
   "execution_count": 50,
   "metadata": {},
   "outputs": [],
   "source": [
    "path = os.getcwd()\n",
    "alpha1 = np.loadtxt(path+\"/Alpha/1.txt\")\n",
    "alpha2 = np.loadtxt(path+\"/Alpha/2.txt\")"
   ]
  },
  {
   "cell_type": "code",
   "execution_count": 51,
   "metadata": {},
   "outputs": [],
   "source": [
    "Alpha1P = sitk.ReadImage(path+\"/CheckV/1.mha\")\n",
    "Alpha2P = sitk.ReadImage(path+\"/CheckV/2.mha\")\n",
    "Mask = sitk.ReadImage(\"Mask.mha\")"
   ]
  },
  {
   "cell_type": "code",
   "execution_count": 52,
   "metadata": {},
   "outputs": [],
   "source": [
    "M_alpha1P = sitk.GetArrayFromImage(Alpha1P)\n",
    "M_alpha2P = sitk.GetArrayFromImage(Alpha2P)\n",
    "mask = sitk.GetArrayFromImage(Mask)"
   ]
  },
  {
   "cell_type": "code",
   "execution_count": 53,
   "metadata": {},
   "outputs": [
    {
     "name": "stdout",
     "output_type": "stream",
     "text": [
      "(128, 128, 128)\n"
     ]
    }
   ],
   "source": [
    "print(M_alpha1P.shape)\n",
    "for i in range(M_alpha1P.shape[0]):\n",
    "    alpha1_i = Image.fromarray(M_alpha1P[i])\n",
    "    alpha1_i = alpha1_i.convert(\"L\")\n",
    "    alpha1_i.save(path+\"/CheckV/alpha1_\"+str(i+1)+\".jpg\")\n",
    "    alpha2_i = Image.fromarray(M_alpha2P[i])\n",
    "    alpha2_i = alpha2_i.convert(\"L\")\n",
    "    alpha2_i.save(path+\"/CheckV/alpha2_\"+str(i+1)+\".jpg\")"
   ]
  },
  {
   "cell_type": "code",
   "execution_count": 54,
   "metadata": {},
   "outputs": [
    {
     "name": "stdout",
     "output_type": "stream",
     "text": [
      "(128, 128, 128)\n"
     ]
    }
   ],
   "source": [
    "ref = sitk.ReadImage(\"Ref.mha\")\n",
    "Ref = sitk.GetArrayFromImage(ref)\n",
    "print(Ref.shape)\n",
    "for i in range(Ref.shape[0]):\n",
    "    ref_i = Image.fromarray(Ref[i])\n",
    "    ref_i = ref_i.convert(\"L\")\n",
    "    ref_i.save(path+\"/CheckV/ref_\"+str(i+1)+\".jpg\")"
   ]
  },
  {
   "cell_type": "code",
   "execution_count": 55,
   "metadata": {},
   "outputs": [
    {
     "name": "stdout",
     "output_type": "stream",
     "text": [
      "349444825\n"
     ]
    }
   ],
   "source": [
    "X = np.zeros_like(Ref)\n",
    "for i in range(128):\n",
    "    for j in range(128):\n",
    "        for k in range(128):\n",
    "            X[i][j][k] = abs(mask[i][j][k] * (int(M_alpha1P[i][j][k])-int(M_alpha2P[i][j][k])))\n",
    "            X[i][j][k] = pow(X[i][j][k], 2)\n",
    "Er1 = np.sum(X)\n",
    "print(Er1)"
   ]
  },
  {
   "cell_type": "code",
   "execution_count": 58,
   "metadata": {},
   "outputs": [
    {
     "name": "stdout",
     "output_type": "stream",
     "text": [
      "75184629657.98254\n"
     ]
    }
   ],
   "source": [
    "mu = 1e4\n",
    "a1 = np.linalg.norm(alpha1, ord=1)\n",
    "a2 = np.linalg.norm(alpha2, ord=1)\n",
    "Er2 = mu*(pow(a1, 2)+pow(a2, 2))\n",
    "print(Er2)"
   ]
  },
  {
   "cell_type": "code",
   "execution_count": 59,
   "metadata": {},
   "outputs": [
    {
     "name": "stdout",
     "output_type": "stream",
     "text": [
      "75534074482.98254\n"
     ]
    }
   ],
   "source": [
    "Er = Er1 + Er2\n",
    "print(Er)"
   ]
  },
  {
   "cell_type": "code",
   "execution_count": null,
   "metadata": {},
   "outputs": [],
   "source": []
  }
 ],
 "metadata": {
  "kernelspec": {
   "display_name": "Python 3",
   "language": "python",
   "name": "python3"
  },
  "language_info": {
   "codemirror_mode": {
    "name": "ipython",
    "version": 3
   },
   "file_extension": ".py",
   "mimetype": "text/x-python",
   "name": "python",
   "nbconvert_exporter": "python",
   "pygments_lexer": "ipython3",
   "version": "3.7.1"
  }
 },
 "nbformat": 4,
 "nbformat_minor": 2
}
