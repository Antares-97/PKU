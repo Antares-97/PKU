{
 "cells": [
  {
   "cell_type": "code",
   "execution_count": 1,
   "metadata": {},
   "outputs": [],
   "source": [
    "import numpy as np\n",
    "import math"
   ]
  },
  {
   "cell_type": "code",
   "execution_count": 2,
   "metadata": {},
   "outputs": [],
   "source": [
    "TOL = 1e-5\n",
    "N = 1000\n",
    "x = np.zeros(81)\n",
    "y = np.zeros(81)\n",
    "w = 0.5\n",
    "A = np.zeros([81, 81])"
   ]
  },
  {
   "cell_type": "code",
   "execution_count": 3,
   "metadata": {},
   "outputs": [],
   "source": [
    "for i in range(1,81):\n",
    "    A[i][i]=2*i\n",
    "    if i>=3:\n",
    "        A[i][i-2]=0.5*i\n",
    "    if i>=5:\n",
    "        A[i][i-4]=0.25*i\n",
    "    if i<=76:\n",
    "        A[i][i+4]=0.25*i\n",
    "    if i<=78:\n",
    "        A[i][i+2]=0.5*i\n",
    "\n",
    "b = np.zeros(81)\n",
    "for i in range(1,81):\n",
    "    b[i] = math.pi"
   ]
  },
  {
   "cell_type": "code",
   "execution_count": 4,
   "metadata": {},
   "outputs": [
    {
     "name": "stdout",
     "output_type": "stream",
     "text": [
      "ans: [0.         1.53871931 0.73141596 0.10797758 0.17328619 0.04056675\n",
      " 0.08525282 0.16643611 0.1219754  0.10125101 0.09045734 0.07203373\n",
      " 0.07026544 0.06875186 0.06324273 0.05971085 0.05570861 0.05187612\n",
      " 0.04924649 0.04677802 0.04448352 0.04246521 0.04053487 0.03876926\n",
      " 0.03717882 0.03570504 0.03434801 0.03309197 0.03191913 0.03082687\n",
      " 0.02980714 0.02885208 0.02795668 0.02711503 0.02632223 0.02557441\n",
      " 0.02486776 0.02419901 0.02356524 0.02296374 0.02239212 0.02184821\n",
      " 0.02133004 0.02083584 0.02036398 0.01991299 0.01948151 0.0190683\n",
      " 0.01867223 0.01829226 0.01792742 0.01757684 0.01723968 0.0169152\n",
      " 0.0166027  0.01630149 0.01601103 0.01573078 0.01546012 0.01519877\n",
      " 0.01494594 0.01470074 0.01446405 0.01423465 0.0140126  0.01380246\n",
      " 0.01359368 0.01338407 0.01318753 0.01297109 0.01278599 0.01270287\n",
      " 0.01252679 0.01237637 0.01220947 0.01129003 0.01114098 0.01217332\n",
      " 0.01201765 0.01542884 0.01523785]\n",
      "iteration: 21\n"
     ]
    }
   ],
   "source": [
    "k = 1\n",
    "while k <= N:\n",
    "    for i in range(1,81):\n",
    "        s = 0\n",
    "        for j in range(1,i):\n",
    "            s += A[i][j]*y[j]\n",
    "        for j in range(i+1, 81):\n",
    "            s += A[i][j]*x[j]\n",
    "        s = -s + b[i]\n",
    "        y[i] = (1 - w) * x[i] + w * s/A[i][i]\n",
    "    norm = 0\n",
    "    for i in range(1, 81):\n",
    "        if abs(x[i] - y[i]) > norm :\n",
    "            norm = abs(x[i]-y[i])\n",
    "    if norm < TOL:\n",
    "        print(\"ans:\",y)\n",
    "        break\n",
    "    k += 1\n",
    "    for i in range(1,81):\n",
    "        x[i]=y[i]\n",
    "print(\"iteration:\",k)"
   ]
  },
  {
   "cell_type": "code",
   "execution_count": null,
   "metadata": {},
   "outputs": [],
   "source": []
  }
 ],
 "metadata": {
  "kernelspec": {
   "display_name": "Python 3",
   "language": "python",
   "name": "python3"
  },
  "language_info": {
   "codemirror_mode": {
    "name": "ipython",
    "version": 3
   },
   "file_extension": ".py",
   "mimetype": "text/x-python",
   "name": "python",
   "nbconvert_exporter": "python",
   "pygments_lexer": "ipython3",
   "version": "3.6.5"
  }
 },
 "nbformat": 4,
 "nbformat_minor": 2
}
