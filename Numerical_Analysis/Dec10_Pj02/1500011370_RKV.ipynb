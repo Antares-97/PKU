{
 "cells": [
  {
   "cell_type": "code",
   "execution_count": 1,
   "metadata": {},
   "outputs": [],
   "source": [
    "import numpy as np\n",
    "import math"
   ]
  },
  {
   "cell_type": "code",
   "execution_count": 2,
   "metadata": {},
   "outputs": [],
   "source": [
    "def f(t, y):\n",
    "    return y/t-(y/t)**2"
   ]
  },
  {
   "cell_type": "code",
   "execution_count": 3,
   "metadata": {},
   "outputs": [],
   "source": [
    "def actual(t):\n",
    "    return t/(1+math.log(t))"
   ]
  },
  {
   "cell_type": "code",
   "execution_count": 4,
   "metadata": {},
   "outputs": [],
   "source": [
    "def rkv(h, t, w):\n",
    "    k1 = h * f(t, w)\n",
    "    k2 = h * f(t + h/6, w + k1/6)        \n",
    "    k3 = h * f(t + 4*h/15, w + 4*k1/75 + 16*k2/75)\n",
    "    k4 = h * f(t + 2*h/3, w + 5*k1/6 - 8*k2/3 + 5*k3/2)\n",
    "    k5 = h * f(t + 5*h/6, w - 165*k1/64 + 55*k2/6 - 425*k3/64 \n",
    "               + 85*k4/96)\n",
    "    k6 = h * f(t + h, w + 12*k1/5 - 8*k2 + 4015*k3/612 \n",
    "               - 11*k4/36 + 88*k5/255)\n",
    "    k7 = h * f(t + h/15, w - 8263*k1/15000 + 124*k2/75 \n",
    "               - 643*k3/680 - 81*k4/250 + 2484*k5/10625)\n",
    "    k8 = h * f(t + h, w + 3501*k1/1720 - 300*k2/43 + 297275*k3/52632 \n",
    "               - 319*k4/2322 + 24068*k5/84065 + 3850*k7/26703)\n",
    "    return np.asarray([k1,k2,k3,k4,k5,k6,k7,k8])"
   ]
  },
  {
   "cell_type": "code",
   "execution_count": 7,
   "metadata": {},
   "outputs": [],
   "source": [
    "a = 1\n",
    "b = 4\n",
    "alpha = 1\n",
    "TOL = 1e-6\n",
    "hmax = 0.5\n",
    "hmin = 0.05"
   ]
  },
  {
   "cell_type": "code",
   "execution_count": 17,
   "metadata": {},
   "outputs": [
    {
     "name": "stdout",
     "output_type": "stream",
     "text": [
      "[[1.00000000e+00 1.00000000e+00 5.00000000e-01]\n",
      " [1.50000000e+00 1.06722938e+00 5.00000000e-01]\n",
      " [1.99955597e+00 1.18109446e+00 4.99555967e-01]\n",
      " [2.49955597e+00 1.30446325e+00 5.00000000e-01]\n",
      " [2.99955597e+00 1.42937562e+00 5.00000000e-01]\n",
      " [3.49955597e+00 1.55350803e+00 5.00000000e-01]\n",
      " [3.99955597e+00 1.67610042e+00 5.00000000e-01]\n",
      " [4.00000000e+00 1.67620852e+00 4.44032697e-04]]\n"
     ]
    }
   ],
   "source": [
    "h = hmax\n",
    "flag = 1\n",
    "t = a\n",
    "w = alpha\n",
    "ans = np.asarray([t,w,h])\n",
    "while(flag):\n",
    "    k = rkv(h, t, w)\n",
    "    error = abs(-k[0]/160 - 125*k[2]/17952 + k[3]/144 -12*k[4]/1955 \n",
    "                - 3*k[5]/44 + 125*k[6]/11592 + 43*k[7]/616)\n",
    "    if error <= TOL:\n",
    "        t = t + h\n",
    "        w = w + 13*k[0]/160 + 2375*k[2]/5984 + 5*k[3]/16 + 12*k[4]/85 + 3*k[5]/44\n",
    "        ans = np.vstack((ans, np.asarray([t,w,h])))\n",
    "    X = 0.9*math.pow((TOL/error),1/5)\n",
    "    if X <= 0.1:\n",
    "        h = 0.5*h\n",
    "    elif X * h >= hmax:\n",
    "        h = hmax\n",
    "    else:\n",
    "        h = h * X\n",
    "        \n",
    "    if t >= b:\n",
    "        flag = 0\n",
    "    elif t + h >= b:\n",
    "        h = b - t\n",
    "    \n",
    "if flag == 0:\n",
    "    print(ans)"
   ]
  },
  {
   "cell_type": "code",
   "execution_count": null,
   "metadata": {},
   "outputs": [],
   "source": []
  }
 ],
 "metadata": {
  "kernelspec": {
   "display_name": "Python 3",
   "language": "python",
   "name": "python3"
  },
  "language_info": {
   "codemirror_mode": {
    "name": "ipython",
    "version": 3
   },
   "file_extension": ".py",
   "mimetype": "text/x-python",
   "name": "python",
   "nbconvert_exporter": "python",
   "pygments_lexer": "ipython3",
   "version": "3.6.5"
  }
 },
 "nbformat": 4,
 "nbformat_minor": 2
}
