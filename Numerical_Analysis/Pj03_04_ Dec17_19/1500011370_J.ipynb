{
 "cells": [
  {
   "cell_type": "code",
   "execution_count": 2,
   "metadata": {},
   "outputs": [],
   "source": [
    "import numpy as np\n",
    "import timeit\n",
    "import matplotlib.pyplot as plt"
   ]
  },
  {
   "cell_type": "code",
   "execution_count": 3,
   "metadata": {},
   "outputs": [],
   "source": [
    "def Jacobi(A):\n",
    "    n     = A.shape[0]            # matrix size #columns = #lines\n",
    "    maxit = 100                   # maximum number of iterations\n",
    "    eps   = 1.0e-15               # accuracy goal\n",
    "    pi    = np.pi        \n",
    "    info  = 0                     # return flag\n",
    "    ev    = np.zeros(n,float)     # initialize eigenvalues\n",
    "    U     = np.zeros((n,n),float) # initialize eigenvector\n",
    "    for i in range(0,n): U[i,i] = 1.0\n",
    "\n",
    "    for t in range(0,maxit):\n",
    "        s = 0;    # compute sum of off-diagonal elements in A(i,j)\n",
    "        for i in range(0,n): s = s + np.sum(np.abs(A[i,(i+1):n]))\n",
    "        if (s < eps): # diagonal form reached\n",
    "            info = t\n",
    "            for i in range(0,n):ev[i] = A[i,i]\n",
    "            break\n",
    "        else:\n",
    "            limit = s/(n*(n-1)/2.0)       # average value of off-diagonal elements\n",
    "            for i in range(0,n-1):       # loop over lines of matrix\n",
    "                for j in range(i+1,n):  # loop over columns of matrix\n",
    "                    if (np.abs(A[i,j]) > limit):      # determine (ij) such that |A(i,j)| larger than average \n",
    "                                                         # value of off-diagonal elements\n",
    "                        denom = A[i,i] - A[j,j]       # denominator of Eq. (3.61)\n",
    "                        if (np.abs(denom) < eps): phi = pi/4         # Eq. (3.62)\n",
    "                        else: phi = 0.5*np.arctan(2.0*A[i,j]/denom)  # Eq. (3.61)\n",
    "                        si = np.sin(phi)\n",
    "                        co = np.cos(phi)\n",
    "                        for k in range(i+1,j):\n",
    "                            store  = A[i,k]\n",
    "                            A[i,k] = A[i,k]*co + A[k,j]*si  # Eq. (3.56) \n",
    "                            A[k,j] = A[k,j]*co - store *si  # Eq. (3.57) \n",
    "                        for k in range(j+1,n):\n",
    "                            store  = A[i,k]\n",
    "                            A[i,k] = A[i,k]*co + A[j,k]*si  # Eq. (3.56) \n",
    "                            A[j,k] = A[j,k]*co - store *si  # Eq. (3.57) \n",
    "                        for k in range(0,i):\n",
    "                            store  = A[k,i]\n",
    "                            A[k,i] = A[k,i]*co + A[k,j]*si\n",
    "                            A[k,j] = A[k,j]*co - store *si\n",
    "                        store = A[i,i]\n",
    "                        A[i,i] = A[i,i]*co*co + 2.0*A[i,j]*co*si +A[j,j]*si*si  # Eq. (3.58)\n",
    "                        A[j,j] = A[j,j]*co*co - 2.0*A[i,j]*co*si +store *si*si  # Eq. (3.59)\n",
    "                        A[i,j] = 0.0                                            # Eq. (3.60)\n",
    "                        for k in range(0,n):\n",
    "                            store  = U[k,j]\n",
    "                            U[k,j] = U[k,j]*co - U[k,i]*si  # Eq. (3.66)\n",
    "                            U[k,i] = U[k,i]*co + store *si  # Eq. (3.67)\n",
    "        info = -t # in case no convergence is reached set info to a negative value \"-t\"\n",
    "    return ev,U,t"
   ]
  },
  {
   "cell_type": "code",
   "execution_count": 6,
   "metadata": {},
   "outputs": [
    {
     "name": "stdout",
     "output_type": "stream",
     "text": [
      "(5, 5)\n"
     ]
    }
   ],
   "source": [
    "A = np.array([[5 , -1, 0, 0, 0], [-1, 4.5, 0.2, 0, 0], [0, 0.2, 1, -0.4, 0], [0, 0, -0.4, 3, 1], [0, 0, 0, 1, 3]])\n",
    "print(A.shape)"
   ]
  },
  {
   "cell_type": "code",
   "execution_count": 8,
   "metadata": {},
   "outputs": [
    {
     "name": "stdout",
     "output_type": "stream",
     "text": [
      "RESULT FROM numpy.linalg.eig\n",
      "Eigenvalues =  [5.784   0.8903  2.07071 3.72756 4.02743]\n",
      "Eigenvectors =  [[ 0.7867   0.01393  0.00792 -0.6161  -0.03568]\n",
      " [-0.61677  0.05725  0.02321 -0.78395 -0.0347 ]\n",
      " [-0.02615 -0.9636  -0.24232 -0.0527  -0.09642]\n",
      " [ 0.00431 -0.23564  0.66023 -0.03259  0.71238]\n",
      " [ 0.00155  0.11169 -0.71047 -0.04479  0.69336]]\n"
     ]
    }
   ],
   "source": [
    "np.set_printoptions(precision=5)\n",
    "ev,U = np.linalg.eig(A)\n",
    "print (\"RESULT FROM numpy.linalg.eig\")\n",
    "print (\"Eigenvalues = \", ev)\n",
    "print (\"Eigenvectors = \", U)"
   ]
  },
  {
   "cell_type": "code",
   "execution_count": 9,
   "metadata": {},
   "outputs": [
    {
     "name": "stdout",
     "output_type": "stream",
     "text": [
      "JACOBI METHOD: Number of rotations =  12\n",
      "Eigenvalues =  [5.784   3.72756 0.8903  4.02743 2.07071]\n",
      "Eigenvectors =  [[ 0.7867   0.6161  -0.01393 -0.03568 -0.00792]\n",
      " [-0.61677  0.78395 -0.05725 -0.0347  -0.02321]\n",
      " [-0.02615  0.0527   0.9636  -0.09642  0.24232]\n",
      " [ 0.00431  0.03259  0.23564  0.71238 -0.66023]\n",
      " [ 0.00155  0.04479 -0.11169  0.69336  0.71047]]\n"
     ]
    }
   ],
   "source": [
    "ev,U,t = Jacobi(A)\n",
    "print (\"JACOBI METHOD: Number of rotations = \", t)\n",
    "print (\"Eigenvalues = \", ev)\n",
    "print (\"Eigenvectors = \", U)"
   ]
  },
  {
   "cell_type": "code",
   "execution_count": null,
   "metadata": {},
   "outputs": [],
   "source": []
  }
 ],
 "metadata": {
  "kernelspec": {
   "display_name": "Python 3",
   "language": "python",
   "name": "python3"
  },
  "language_info": {
   "codemirror_mode": {
    "name": "ipython",
    "version": 3
   },
   "file_extension": ".py",
   "mimetype": "text/x-python",
   "name": "python",
   "nbconvert_exporter": "python",
   "pygments_lexer": "ipython3",
   "version": "3.7.1"
  }
 },
 "nbformat": 4,
 "nbformat_minor": 2
}
